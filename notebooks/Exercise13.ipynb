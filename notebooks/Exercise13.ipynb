{
  "nbformat": 4,
  "nbformat_minor": 0,
  "metadata": {
    "colab": {
      "provenance": []
    },
    "kernelspec": {
      "name": "python3",
      "display_name": "Python 3"
    },
    "language_info": {
      "name": "python"
    }
  },
  "cells": [
    {
      "cell_type": "markdown",
      "source": [
        "# s1300012_exercise13"
      ],
      "metadata": {
        "id": "l9Tb8Gkx_wrT"
      }
    },
    {
      "cell_type": "code",
      "execution_count": null,
      "metadata": {
        "id": "ETkPjrWEFWTE"
      },
      "outputs": [],
      "source": [
        "!pip install PAMI"
      ]
    },
    {
      "cell_type": "markdown",
      "source": [
        "## Data preprocessing"
      ],
      "metadata": {
        "id": "I21loPXB_k_o"
      }
    },
    {
      "cell_type": "code",
      "source": [
        "import pandas as pd\n",
        "from PAMI.extras.DF2DB import denseDF2DB as pro\n",
        "\n",
        "# データの読み込み\n",
        "file_path = '/content/air_pollution_data.csv'  # Google Driveに保存したファイルのパス\n",
        "dataset = pd.read_csv(file_path)\n",
        "\n",
        "# データの前処理\n",
        "dataset.drop(columns=['Timestamp'], inplace=True)\n",
        "dataset = dataset.fillna(0)\n",
        "dataset.where(dataset <= 100, 0, inplace=True)\n",
        "\n",
        "# トランザクションデータベースの作成\n",
        "db = pro.denseDF2DB(inputDF=dataset, thresholdValue=15, condition='>=')\n",
        "\n",
        "# トランザクションデータベースの保存\n",
        "output_file_path = '/content/PM24HeavyPollutionRecordingSensors.csv'\n",
        "db.createTransactional(outputFile=output_file_path)\n",
        "\n",
        "# 保存した CSV ファイルの確認\n",
        "trans_df = pd.read_csv(output_file_path)\n",
        "print(trans_df.head())\n"
      ],
      "metadata": {
        "id": "e-SdYhQgFc8f"
      },
      "execution_count": null,
      "outputs": []
    },
    {
      "cell_type": "markdown",
      "source": [
        "## Knowledge discovery"
      ],
      "metadata": {
        "id": "IF0v5TSp_7d6"
      }
    },
    {
      "cell_type": "code",
      "source": [
        "from PAMI.frequentPattern.basic import FPGrowth as alg\n",
        "\n",
        "# 入力ファイルの指定\n",
        "inputFile = 'PM24HeavyPollutionRecordingSensors.csv'\n",
        "\n",
        "# モデルに使用する制約条件の指定\n",
        "minSup = 1\n",
        "\n",
        "# マイニングアルゴリズムのオブジェクトを作成\n",
        "obj = alg.FPGrowth(inputFile, minSup)\n",
        "\n",
        "# マイニングプロセスを開始\n",
        "obj.startMine()\n",
        "\n",
        "# 生成されたパターンをファイルに保存\n",
        "obj.save('frequentPatterns.txt')\n"
      ],
      "metadata": {
        "id": "E31oJBr49YD3"
      },
      "execution_count": null,
      "outputs": []
    },
    {
      "cell_type": "markdown",
      "source": [
        "######  Frequent patterns were generated successfully using frequentPatternGrowth algorithm\n",
        "##  \n",
        "##  Visualization"
      ],
      "metadata": {
        "id": "ElOguJtl_9eR"
      }
    },
    {
      "cell_type": "code",
      "source": [
        "import re\n",
        "import plotly.express as px\n",
        "import pandas as pd\n",
        "\n",
        "# Read the file to get a pattern\n",
        "with open('frequentPatterns.txt', 'r') as file:\n",
        "    patterns = file.readlines()\n",
        "\n",
        "# Analyze the pattern to identify the longest pattern\n",
        "max_pattern = []\n",
        "max_length = 0\n",
        "for pattern in patterns:\n",
        "    # Obtain coordinates in the pattern\n",
        "    coordinates = re.findall(r'Point\\((.*?)\\)', pattern)\n",
        "    if len(coordinates) > max_length:\n",
        "        max_pattern = coordinates\n",
        "        max_length = len(coordinates)\n",
        "\n",
        "# Display the longest pattern on Plotly Express Open Street Map\n",
        "df = pd.DataFrame(max_pattern, columns=['coordinate'])\n",
        "df[['Lon', 'Lat']] = df['coordinate'].str.split(' ', expand=True)\n",
        "df['Lon'] = df['Lon'].astype(float)\n",
        "df['Lat'] = df['Lat'].astype(float)\n",
        "fig = px.scatter_mapbox(\n",
        "    df,\n",
        "    lat='Lat',\n",
        "    lon='Lon',\n",
        "    hover_name='coordinate'\n",
        ")\n",
        "fig.update_layout(mapbox_style='open-street-map')\n",
        "fig.show()"
      ],
      "metadata": {
        "id": "rMIOxUNs_eqt"
      },
      "execution_count": null,
      "outputs": []
    },
    {
      "cell_type": "markdown",
      "source": [
        "[リンクテキスト](https://github.com/s1300012/PAMI/blob/main/notebooks/Exercise13.ipynb)"
      ],
      "metadata": {
        "id": "cHdIVZkJGje2"
      }
    }
  ]
}